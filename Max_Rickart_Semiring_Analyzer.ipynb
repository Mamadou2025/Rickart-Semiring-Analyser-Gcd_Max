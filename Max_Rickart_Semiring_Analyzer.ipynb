{
  "nbformat": 4,
  "nbformat_minor": 0,
  "metadata": {
    "colab": {
      "provenance": [],
      "authorship_tag": "ABX9TyOcqXGNn2KvoOId2CCHuHp2",
      "include_colab_link": true
    },
    "kernelspec": {
      "name": "python3",
      "display_name": "Python 3"
    },
    "language_info": {
      "name": "python"
    }
  },
  "cells": [
    {
      "cell_type": "markdown",
      "metadata": {
        "id": "view-in-github",
        "colab_type": "text"
      },
      "source": [
        "<a href=\"https://colab.research.google.com/github/Mamadou2025/Rickart-Semiring-Analyser-Gcd_Max/blob/main/Max_Rickart_Semiring_Analyzer.ipynb\" target=\"_parent\"><img src=\"https://colab.research.google.com/assets/colab-badge.svg\" alt=\"Open In Colab\"/></a>"
      ]
    },
    {
      "cell_type": "code",
      "execution_count": null,
      "metadata": {
        "id": "s2cVXdhZ6NFn"
      },
      "outputs": [],
      "source": [
        "from itertools import product\n",
        "\n",
        "def is_endomorphism(f, M):\n",
        "    \"\"\"Checks if f preserves the max operation\"\"\"\n",
        "    for x, y in product(M, repeat=2):\n",
        "        if f[max(x, y)] != max(f[x], f[y]):\n",
        "            return False\n",
        "    return True\n",
        "\n",
        "def is_idempotent(f, M):\n",
        "    \"\"\"Checks if f ∘ f = f\"\"\"\n",
        "    for x in M:\n",
        "        if f[f[x]] != f[x]:\n",
        "            return False\n",
        "    return True\n",
        "\n",
        "def compose(f, f_i, M):\n",
        "    \"\"\"Compute composition f ∘ f_i\"\"\"\n",
        "    return tuple(sorted((x, f[f_i[x]]) for x in M))\n",
        "\n",
        "def subtractive_closure(S, M):\n",
        "    \"\"\"Compute subtractive closure Im_S(f)\"\"\"\n",
        "    Im_S_f = set()\n",
        "    for f_i in S:\n",
        "        for f_j in S:\n",
        "            for f_k in S:\n",
        "                if {x: max(f_i[x], f_j[x]) for x in M} == f_k:\n",
        "                    Im_S_f.add(tuple(sorted(f_k.items())))\n",
        "    return Im_S_f\n",
        "\n",
        "def is_i_rickart(S, M):\n",
        "    \"\"\"Check if S is i-Rickart\"\"\"\n",
        "    for f in S:\n",
        "        if is_idempotent(f, M):\n",
        "            f_composed = {compose(f, f_j, M) for f_j in S}\n",
        "            if f_composed == {tuple(sorted(f.items()))}:\n",
        "                return True\n",
        "    return False\n",
        "\n",
        "def is_w_rickart(S, M):\n",
        "    \"\"\"Check if S is w-Rickart\"\"\"\n",
        "    if is_i_rickart(S, M):\n",
        "        if {tuple(sorted(f.items())) for f in S} == subtractive_closure(S, M):\n",
        "            return True\n",
        "    return False\n",
        "\n",
        "def test_s_rickart(n):\n",
        "    M = list(range(n + 1))\n",
        "    S = []\n",
        "    for f_tuple in product(range(n + 1), repeat=n + 1):\n",
        "        f = {i: f_tuple[i] for i in M}\n",
        "        if is_endomorphism(f, M) and f[0] == 0:\n",
        "            S.append(f)\n",
        "\n",
        "    print(f\"Testing endomorphism semiring of M = {M}:\")\n",
        "\n",
        "    if is_i_rickart(S, M):\n",
        "        print(\"S is i-Rickart.\")\n",
        "        if is_w_rickart(S, M):\n",
        "            print(\"S is w-Rickart.\")\n",
        "        else:\n",
        "            print(\"S is not w-Rickart.\")\n",
        "    else:\n",
        "        print(\"S is not i-Rickart.\")\n",
        "\n",
        "# Test for M = {0, 1, 2, ..., n}\n",
        "n = 2  # You can change n to generate different sets\n",
        "test_s_rickart(n)"
      ]
    },
    {
      "cell_type": "markdown",
      "source": [
        "\n",
        "\n",
        "## Usage\n",
        "\n",
        "Modify the parameter n in test_s_rickart(n) to test different sets.\n",
        "\n",
        "Example Output\n",
        "For n = 2, the script will output:\n",
        "Testing endomorphism semiring of M = [0, 1, 2]:\n",
        "S is i-Rickart.\n",
        "S is w-Rickart.\n",
        "\n",
        "# Endomorphism Semiring and Rickart Properties\n",
        "\n",
        "This Python script analyzes the structure of the endomorphism semiring over a set \\( M \\), determining whether the semiring exhibits i-Rickart and w-Rickart properties.\n",
        "\n",
        "## Overview\n",
        "\n",
        "The script defines several functions that:\n",
        "- **is_endomorphism**: Checks if a function preserves the maximum operation.\n",
        "- **is_idempotent**: Determines whether a function is idempotent.\n",
        "- **compose**: Computes the composition of functions.\n",
        "- **subtractive_closure**: Computes the subtractive closure of a semiring.\n",
        "- **is_i_rickart**: Checks whether the semiring satisfies i-Rickart properties.\n",
        "- **is_w_rickart**: Checks whether the semiring satisfies w-Rickart properties.\n",
        "- **test_s_rickart**: Generates all valid endomorphisms and tests Rickart properties.\n",
        "\n",
        "\n",
        "\n",
        "\n"
      ],
      "metadata": {
        "id": "IDaySZk27BMK"
      }
    }
  ]
}