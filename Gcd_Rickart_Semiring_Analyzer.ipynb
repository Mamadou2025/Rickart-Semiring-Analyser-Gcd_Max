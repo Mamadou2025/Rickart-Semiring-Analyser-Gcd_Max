{
  "nbformat": 4,
  "nbformat_minor": 0,
  "metadata": {
    "colab": {
      "provenance": [],
      "authorship_tag": "ABX9TyNibBq981rdVI8a/wB1E4+O",
      "include_colab_link": true
    },
    "kernelspec": {
      "name": "python3",
      "display_name": "Python 3"
    },
    "language_info": {
      "name": "python"
    }
  },
  "cells": [
    {
      "cell_type": "markdown",
      "metadata": {
        "id": "view-in-github",
        "colab_type": "text"
      },
      "source": [
        "<a href=\"https://colab.research.google.com/github/Mamadou2025/Rickart-Semiring-Analyser-Gcd_Max/blob/main/Gcd_Rickart_Semiring_Analyzer.ipynb\" target=\"_parent\"><img src=\"https://colab.research.google.com/assets/colab-badge.svg\" alt=\"Open In Colab\"/></a>"
      ]
    },
    {
      "cell_type": "code",
      "execution_count": null,
      "metadata": {
        "colab": {
          "base_uri": "https://localhost:8080/"
        },
        "id": "FyvwafMzzu-G",
        "outputId": "75cfaf0e-6b7e-4d9a-d56d-6cac3606e428"
      },
      "outputs": [
        {
          "output_type": "stream",
          "name": "stdout",
          "text": [
            "Testing endomorphism semiring of M = [0, 1, 2]:\n",
            "S is i-Rickart.\n",
            "S is w-Rickart.\n"
          ]
        }
      ],
      "source": [
        "from itertools import product\n",
        "\n",
        "def is_endomorphism(f, M):\n",
        "    \"\"\"Checks if f preserves the gcd operation\"\"\"\n",
        "    for x, y in product(M, repeat=2):\n",
        "        if f[gcd(x, y)] != gcd(f[x], f[y]):\n",
        "            return False\n",
        "    return True\n",
        "\n",
        "def gcd(x, y):\n",
        "    \"\"\"Computes the GCD of x and y with gcd(0,0) = 0\"\"\"\n",
        "    while y != 0:\n",
        "        x, y = y, x % y\n",
        "    return abs(x) if x != 0 else 0\n",
        "\n",
        "def is_idempotent(f, M):\n",
        "    \"\"\"Checks if f ∘ f = f\"\"\"\n",
        "    for x in M:\n",
        "        if f[f[x]] != f[x]:\n",
        "            return False\n",
        "    return True\n",
        "\n",
        "def compose(f, f_i, M):\n",
        "    \"\"\"Compute composition f ∘ f_i\"\"\"\n",
        "    return tuple(sorted((x, f[f_i[x]]) for x in M))\n",
        "\n",
        "def subtractive_closure(S, M):\n",
        "    \"\"\"Compute subtractive closure Im_S(f)\"\"\"\n",
        "    Im_S_f = set()\n",
        "    for f_i in S:\n",
        "        for f_j in S:\n",
        "            for f_k in S:\n",
        "                if {x: gcd(f_i[x], f_j[x]) for x in M} == f_k:\n",
        "                    Im_S_f.add(tuple(sorted(f_k.items())))\n",
        "    return Im_S_f\n",
        "\n",
        "def is_i_rickart(S, M):\n",
        "    \"\"\"Check if S is i-Rickart\"\"\"\n",
        "    for f in S:\n",
        "        if is_idempotent(f, M):\n",
        "            f_composed = {compose(f, f_j, M) for f_j in S}\n",
        "            if f_composed == {tuple(sorted(f.items()))}:\n",
        "                return True\n",
        "    return False\n",
        "\n",
        "def is_w_rickart(S, M):\n",
        "    \"\"\"Check if S is w-Rickart\"\"\"\n",
        "    if is_i_rickart(S, M):\n",
        "        if {tuple(sorted(f.items())) for f in S} == subtractive_closure(S, M):\n",
        "            return True\n",
        "    return False\n",
        "\n",
        "def test_s_rickart(n):\n",
        "    M = list(range(n + 1))\n",
        "    S = []\n",
        "    for f_tuple in product(range(n + 1), repeat=n + 1):\n",
        "        f = {i: f_tuple[i] for i in M}\n",
        "        if is_endomorphism(f, M) and f[0] == 0:\n",
        "            S.append(f)\n",
        "\n",
        "    print(f\"Testing endomorphism semiring of M = {M}:\")\n",
        "\n",
        "    if is_i_rickart(S, M):\n",
        "        print(\"S is i-Rickart.\")\n",
        "        if is_w_rickart(S, M):\n",
        "            print(\"S is w-Rickart.\")\n",
        "        else:\n",
        "            print(\"S is not w-Rickart.\")\n",
        "    else:\n",
        "        print(\"S is not i-Rickart.\")\n",
        "\n",
        "# Test for M = {0, 1, 2, ..., n}\n",
        "n = 2  # You can change n to generate different sets\n",
        "test_s_rickart(n)"
      ]
    },
    {
      "cell_type": "markdown",
      "source": [],
      "metadata": {
        "id": "T0DsDjXk4KC8"
      }
    },
    {
      "cell_type": "markdown",
      "source": [
        "## Usage\n",
        "\n",
        "Run the script with:\n",
        "\n",
        "google colab. Choose n and run. Result for n=2:\n",
        "\n",
        "![ddd.PNG](data:image/png;base64,iVBORw0KGgoAAAANSUhEUgAAApQAAAC6CAYAAAAQ9t1TAAAAAXNSR0IArs4c6QAAAARnQU1BAACxjwv8YQUAAAAJcEhZcwAADsMAAA7DAcdvqGQAACNbSURBVHhe7Z1rrGXlfZ/PZ5QvlfLBkYycix35Q4uVVJUGRVZUx80MxlNHcRibUquOPTGYtCaltLaCPWCHYidMqgY5qMYqtGWsTnzBcRMlXGKwEodxMBiYgQKD8RgMzM0zhpnxwHB769/u+R3+5533XZe99j5nn32eR3p09lrrva89a/1m7XNZeOyxx9KDDz6Y7r777rR79+6Zdu/evRj8q6/emP7zf9icHtpz/2hbX7Wt/aXjNXd87sp07ac+sGzfd+7Zlbb97tvS397xF0v7VEZlvd3U/v2796Zfee930/VfeOy0Y33ds2tXuv6ss9I3b7iheLzml973vnTLJz5RPGZ1XG2rj9Lx6P+9//5008aNy8ah+urHr3Vc5eLxuE918zJ97TKv3DjOpvUstd02Zs9x186d6U9/9meXteu+YptxLKU1zZ3EmrX51b9+LL3lXd9Nf/8P5eOIiNjswpNPPjl6cf9PLtaPPvroTPvEE09g8Pa/3JH+8D+9Kz326MOj7T/771elj194dnpo973F4zVV77qrf2fZPrXxqY+8PX3rm7cu7VMZlfW2jn38Q2cvKxPd8ns/SJf/8ZPFY328+6ab0vU/93PpgVtuKR6v+bX3vz99/ZOfLB6zavvGt7wlPXrv/1+zJh9/+OG085xzRnW8T+2rH73W+DROH1ebajuWV5kbfhKw+s4l2mVeuXGc3tZcNKdYrtS251HrM7aVn6t8DbxGHktpTXPb1sxtlubT1Ru++GR66wU/SA8/Wj6OiIjNLhw8eDApVD7yyCPp+9///kx74MABDP7tbX+WLn3vG5e88uJfSd999MFlx//L7/9m+sET31tWT2qfjsX68vN/dNHouNr59KUb031337lUR8e+etNnlraltl0373/Hnx9Mv7DpcNr98Gvl23z6e99LN597bvrcT//0kjf+/M+nR+64o1g+94kHH0xf+KVfWlZffvPqq0fHH9i5c9n+Pm17bGrD+9TuX3/wg0vbaktt5v1Gtc/HNVaNOS+T2zavNvNxuj3t79J2XiaOW+W0Llofb8f63na92y+5ZGkspTUtmbfhvqXXPI6hr+dfdihdce3B4jFERGx34dlnnx29+N5PLsT79++faX/0ox9h8FvfuDldu+230sEDTxePr7ZP7/9R+ue//Vz6g+ueLR5HnAW/8Q/Ppn+65bn0yOPl44iI2O7CiRMn0g9/+MPR48pDhw7NtMePH8fgt//ua+lPr9ySjhw+UDw+C/7dPSfSL7zj5Ohr6Tjiavrd7x9Pbzz3ZPrSLbw/ERGHuPD888+PkuVTTz2Vjhw5MtOePHkSg/f+/V+k6z75nvTs0cPF47PiV257Pv3a1hfS4SPl44ir5dXXPz+ydAwREbu78MILLyR97P3000+no0ePzrQKv4iIiIg4WxIoEREREXGQBEpEREREHCSBEhEREREHObVAuW/fvpGlY+NamgAiIiIirq4TDZQ7d+5Ml1xySdq4cWN629veNlKvtU/HSnX6WJoAIiIiIq6uEwmUt912W7rggguWQmRNlVHZUhtdLE0AEREREVfXwYFSTx5L4bHJcZ9WliaAiIiIiKvroECpp42lwNjFcZ5UliaAiIiIiKvroEBZ+pj78ssvTxdffPFp+3NVt9Rmk6UJICIiIuLqOnagrH3UrUCp41/84hfTeeedVyxj+370XZoAIiIiIq6uYwdK/eR2KSQ6UMpDhw6lz372s8VyUm3ENtssTQARERERV9exA2X81UDRGCjtQw89lK644orTyqqNvGyTpQkgIiIi4uo6VqDULyzPw6EtBUp75513nvb9lX1++XlpAoiIiIi4uhIoEREREXGQfOSNiIiIiIPkh3IQERERcZBjB0p+bRAiIiIiyrEDpeQXmyMiIiLioEDJn15ERERExEGBUtY++m6y70fdtjQBRERERFxdBwdKqaeNpY+/c1VmnCeTtjQBRERERFxdJxIorZ486ie3468U0mvtG/epZLQ0AURERERcXScaKKP6heV9fml5F0sTQERERMTVdWqBchqWJoCIiIiIqyuBco144703poUrF0b+1NU/lf7msb8plps3N39h82jO+lo6jmvbvQf3pp/Z/jOjc6z3eKkMIiLOvnMVKBU6dFPSTeoXr/3FTqHrwLMH0i//t19eCmvRy265rFinrxqHxqNxlY636ZvuSt5wHWDdp9dJ6nVefhqqb827tG46Nz5PtTJD1Htp0sE9f68Rkl9z6L8RRERcXecqUJ7/pfNHNybdlHTj7ntzagowQxx6s1yNm60C25uufdNSqNYYtP2rN/zqigVK9V0KXfl5UplJBV21qbYv/NqF6XXbXzead6ncOGo+Xk/34+31rs6d3luTXG9ERFw55yJQ+mlayT437FqgbHuy5HDg4w43+X7b98lX1yd1UmV9TK81lq88+JVRnzre9amY2lVAV3nN5ao7rxq5ksFWY8jH63MRz6vWclLhz/8pmWSbNTW3rudjreqg6Pew3oO1f2MESkTEtevcPKHUDUpBQ18dpHSTKpWtWQtu8cZfCjQ6FrdzdZMcJ4ipzRgWrceSj1fbMaxqW+Vdpk9IUt9SAUuBVE/s9HW1A6X61hg8B207qGi+sewQ+6zVuMb31bzqfy9+X5b+/bgcgRIRce06l4GyFES6WAqUsd1YTvscWNVX3M7VTXJIECuNq3Zj1li8T/ViwHSdLsHL7aisbvR6Otl1HjrukBdtWqOScS5WbWsMCrdqz0GyVHaImus0A2V+bubV0ntO50nnK5aTkz6HiIi4cs5FoNSNKA8vMg9hbeqml9fRDd8fF0djOPJN08fizdNtTCtQ5n3Fm7KOxXH20e04wGkOeq32xp1HV9VvaR2l+nZY9fHaWgxR851WoPR7apLjnVVL56YWKKX2r4egjYg4b87NE0rdsByeYqjqo9ooBco+YbAUFvq2kVsal2/UcZ75vrgmLtNVrWGcg1T/Dpdxf67KOfRF+46ldB5L8+46rj6qrWkESrWn98c478+1qM9XfC9p7nmgLJVDRMS141wFSt+kSmGoi6pTC275DbCmw1Tsv7Svj6VxSd2Y4/68nLb7hjhbWkO1O+ng1mQpeHh/fIql7XyeGrtCbNfzltsUKB0K+66t62m8peNy3Lat5qt55+dO+r0c1y7atmZNbdd0n7FO6byqHN9DiYi4dp2bQOmbVOkG1lXVKQU3t6mbqXUoUFnVKR2L+mYtazf0mrVxSfVVa1f1xgkmtTWclUDpY553aY4+L33nH9u1+bp6fWrnpKYD2TTatk2hz22PGyh9vPT+ruk+43hK51XlCJSIiGvXuQmUOH82Bco2HWTGrd+m2lX76qd0fIjTbHuICnsKo6WwOlQCJSLi2pZAiTOrgss4wcpPGacRJv2UbhqBb5ptD1Fj0Zg0tmmESakgOeT7jBERcXUlUOJMq1A4rXCIq6+/NUHnuM9H6YiIOFsSKBERERFxkARKRERERBwkgRIRERERB0mgRERERMRBEigRERERcZAESkREREQcJIES15Xj/m5LxCHWfs+mfh1W7S8XSf9uUln7q0o+zq/WQsTVlEA5Ab/yra+nf/Sht498wyXvSnc98kCx3LjqRqEbi25GXf/0oX6nX+nP96mt9Ryo1nOgJEyf7kr9QvVxAqXK6t+wzlt+TOrf+CyeT81ptX6n6Gr2jbjeJVAOdN+Bp9LGz3xk9FXbn/7z/5H+ycf+1dL2JDz/S+ePbji6wegG0uXm56cX8eKqNl63/XXFm9d6kUBJoIzWgt6kHaeftjqzGp4IlIjr07kIlIcPH06bN29OX/7yl9OZZ56ZFhYWRl/37dtXLD9N9XTyH3/0/Ik8pVQA8MdZuV0umqofn1LqYit9XPv9V0pkDBs6pptZDJ99L9b5+GPdvO84LtVzX6W6Xaz1rf2a54Vfu7Daduw3Pj3S2ujvTXtddTyur1RZ1XH9vExsO6/bpMpp3Orb7XcNh6Ux5f3nZeL56KLKx7al11Vj1Fi9P7bdZV5Na+b3SSyjtnxcZVXHx9x3vt9qDPE9P+75khpHbLu23rV2/T4rHfOaeo1zJ7lmsQ+Vc/38eNwXjee7zXzNYt8y9hHn1aXvtrYRcZhzEyjf+ta3pjPOOCPdddddS9tXXXVVsfw0nWSglLpg6sahr7og5jfbJuNNRzew+HQyvyF5O95whwRKjTW/OUcv+j8XLd0M9FU3B9XRti/8Hou2azfWkk19t7WtOlfd+dr7RvP1mnuN3HZtDb2djyPvK7at7Sa9Rq7vbbVZKl9SZUv95W15u8+59ri8BvFGrtfeztfIfbl+PpbYtrbzNVO78Xzmx5veZ1LnpvYUsK3vJtVu/PdW66e0X/049EQ1R88hP9bnfda0ZlKvtU/H3F88H7Fu3pfUMdfvo9rIrznRLuej1ndb24g43LkKlHpC6X0KkxdccMGycjVVVk81c2N7XTz87NHRx9+//blPFY+Poy6Eumjqqy6UvpB31TcstRHrlm4E8eZWugB3vVHkN6UuxrY1tnijKI2lZlvffduOa+K21YaPx3OisjFEqE68GatcrNtnXqWyXc+Hzedu1Ua+v1a2pMbhNZCxPY1br/XVx2PbbfNqWzMdj+PUfp8v14nGtmVT+ba+m+zaT1P/6jv/N2o1X8079mGHrJle6ym8j0n1oTp6Hc+dtvO2ZT73rqotzbdWt21eLlOq39Y2Ig6XQDlBFSQVKBUsS8f7qotjfAphazeZmmonr5PfGGS8sfS5WOf64h0v/rk6ls/LbXe5adVs67utbe3X8Tgur52PxbY1Zq2L21LZOI+8bmxXNj3FjebjlF3Ph83nbuMcbK1sSdXP5+lxabyaYz5vt900ry5r1rYGmkdeP5ZXO+pf44j1uvTdZD6uWj+1/TK+f/Jj+Trn+5vG3bRmpfWSfn/k74um8+ftPqodv1/i3Luej6a+a20j4mQkUP7ESTyhVJic9A/jyHgBH/dCrTrxJiBLN6u4b8iNwhd/tVc67gt7PB7bjnPWdmksNdv6bmtb44jHtd83/FLbGrPq6LWPxxuey7aNq80h58Pmc7el90dpX021G+cc68X1y+vJpnl1WbOmNVCbTe8zlymNr0vfTXbtp2l91Pe4gXLcNVO9eP7ajjedP2+Pq9rw/Luej659x7ZLxxGxvwTKCTitMCl1AdVFUq/1te2CWlIXz/wmoQupLqi++PqC7W0fd3/ar7Dg422qXO2CrZtP/GhYfcS2td1202qyqe+2trXGXm+vidvydjwH6svl87Zzm8bVZmkN1K/XrIv5usf9MXipr3jumyytSem41yi3bV5ta9a0Bvl8Ncb8Pdw017a+m1RdvxfcR6ktjU3zL/WhMdX697qW5t427qY181hrxzWm+B5X+fz8xbl73zjm82+bl+zad9PaIuJ4EigHqh++0e+e9O+htJP6PkpdIHUD8A2kdONrs3aR9c3DT5bym776iseabkQlVdb1ZayrtrxfY9P3bfl4l5tWm7W+29rWV38sJvXT4L7hl86B2vW6+XjsV+bl47E4liZLa9D3fMjYf7yh5vPu0258n9g4r9K6uP0u84pjlrHttjVoep/ZOH6tQRxLU99Nxjk7rGvb6523K/OAozq10OP2a3NvGnfbmqm/eF2Qfg97Hm6rdP7i3KX687Em43mQ+bmQbeej1neXthFxmHMRKBFnwfxm6321UDAP+gaueeb7mkILIiLOlwRKxAmpAJUHSj0hyffNk36aFQOlnvz4qVwsi4iI8yuBEnFC+slc/GhtnsOkVXCMc5aESUTE9SWBEhEREREHSaBERERExEESKBERERFxkARKRERERBwkgRIRERERB0mgRERERMRBEijnQP8t8j5/e9x/XUh1S8dX0k9//oX0by4/VTxWU+Vvvv2F4jFERERcWecqUOpPLU4rIE2z7aHOaqDssmYKhW9654tp31Pl4zXvuu+F9MZzXxx9LR1HRETElZNA2dFZDpTjOAuBUiFSYXLcJ42q92tbT6UfHi0fR0RExJVxLgKlQoue0OUq0LjMvn370plnnrl0LA86eroX6/p4l7bbrLXdRYeyOA4/iYxzOuOMM9Jdd911Wv183gqRCpN5oHQ5qdelunHOGoPq33rrraO+4/Gua1b7qFtte96u63FGFSQVKPnoGxERcXVdF08oa+EpBrOzzjqrGMhsre02u7TdpPqNYUxjcCh0mVofnmfbmtTKfexjHxsd02uX8Zrpq8alfTqmvl//+tcvG0PTmjWFQbftOWvb/eRlx/n+S0RERJys6yJQKuRs3rx5WQhTOQeWWqCKNoWjJru03aT6jQFSc1F4jOFKr0uBUn3m4dM6UH74wx/uPL64Bgp58amo23PgzMvn6uPuf3b+qeL3QKqNOO7a/CQfeyMiIq6+6yJQ+olXrsq7jMKKP7otPQ1rCkdttrXdZJd+a4FLdeMcow6AGlPt4/LSusVAWQurtmnsTT9U0ydQqr6Cad8f6kFERMTJuW4CZVv4iaqNPPh1CXZdLLXdZJd+a4FL9doCpcqUxuQQrLXzvjiWoYGSJ5SIiIjz41wFSoWXUshRIFFgqoWbXAWaPGDV2u5rqe0mhwTKUii0MVBqW/3E+alu/J5ItdH3CWXTmrV9D2Ws1xQo+R5KRETE1XeuAqVDkj+ejU/nHCp9TDpoOSzZ0kfATW032aXtJpsCZd52qX291j4fd1DzfNy2t2N99R3r6ftQ+wTKtjVTGCw9XczbrgXKplCKiIiIK+dcBUpcW/J7KBEREedDAiWuqgqF/KUcRETEtS2BcoD5x8m5tY+qbfxIObfP91mudflb3oiIiGtbAiUiIiIiDpJAiYiIiIiDJFAiIiIi4iAJlIiIiIg4SAIlIiIiIg6SQImIiIiIgyRQIiIiIuIgCZSIiIiIOEgCJSIiIiIOkkCJiIiIiIMkUCIiIiLiIJcFymPHjs20pQkgIiIi4uq6LFACAAAAAPSFQAkAAAAAgyBQAgAAAMAgCJQAAAAAMAgCJQAAAAAMgkAJAAAAAIMgUAIAAADAIAiUAAAAADCIQYHymWeeSfc/8EAvH3/88cXaAAAAADAPjB0o77nnnrTxHeekt2/89d5+7vPXL7YCAAAAAGudsQPlJ664Im069x3p0ssu6+WW89+bfus9WxZbAQAAAIC1ztiB8jN/9Ifpkkv//eJWd/7rn/xJOvdfbl7cmg92796d3vzmN6dLL710cc/aQ2O/7rrrFrdmF42xbZ3n4XyUGDov1VN9tTNLnDhxIm3ZsiW94Q1vGLkWzttaHPMk0L8/z1nz1zoAAIixA+WLL76Yjh8/vrj1GidPnlx8tTLcfvvtSxe46Nlnn50OHjy4WGoYulk0hS0C5cpBoJy/QKlz2jeceC3ie1bzm+S/+yYcKHX9KRGvS9NYc81bbdf6H5eu41Y5AiUARAb9UE7Oyy+/nC66+OJ0y623Lu5ZOXyBn0Yo0o1qGu3OEmtljhrjuIEKZpNx3nsKNBs2bEjbtm0bbStE6t//pk2bVj1QKoRpbA5jmtukgq771bzV5iQDpdfQ42waN4ESAHImGiiffuaZ9I7N70z/YtPGdM+99y7uXRmaAqUuiLow+n/eeRldHH0sHtfXuN/GQKPX3l9q1zfLWplYv1amRhx3/jRBbcjYfrz5eL18TMZ+1Zba9DHP2Tcd3dC0/5prrhltx/7z9Y43HvfrtdHxWLdtzTyn2rzi/ljPxDWLZbrMq42meYs4p3ij1pi2bt261N+OHTtGX2P9pnlpfApSe/bsWeo/1o3nMvYrPG+NwWWaxm01ni60rYlea1/pXDXhNdM41Ie2tW5ah67nawget/rN0Zji+ngNSmX7onVSO5Nss4bWMQbjiPrNz6XwuLq+PwBgfphooBS7du0a/bDOb7z7N9P+/ftH+44ePZo++Dtbl/2kd/wJ8XPeeW667777RmXHpXZjyvfnF2Jtt92EdHFsu+GVyqiPePPVtvpWn/m2x9n1Qpxf7PO2NRb17THpa7wBqJ/YVxx/aY20reN+rfKen766fr7e+by8HcemYz7uNr2dz1N1muZlPJ6Ixl47123z6kJTWbWVnx+PO+9P5RQOS2Mt9aEyCoNSrz0XtRfRMbXpMQiX9djyuqoT11/9l9a7hM+1x+ttteF+NO+o59CG10pt6/X27durazYNPJd8jfP93tbcau+NccjP0zTIz31E/Wpeml/E49K5AYD1xViBctuVVywLhzU/dNGFo++1FPp+y60Xfui0MgqT937nO6MyQ/CFu3Sz1ZOMeOFTGV/wfAFsutj7xtVEqUx+0VVf8YanOvHCq/qli3QJlY39ef6+wehYbFt9OkzE1yaOvzQOz2Xfvn1Lc4jzc33t03rGtmN/HmccW2wnvhYur/2iaV6ROB+jMrVzrWNN8+qCysaxR3TMcxBt/cXjkdJ4VEZBLLZfK5evVamfWFdf45zUR35+a5TK5mPw+c3H2obKa5xqT/++FShLc6mh+nmYlXENm/C48/Jxv8anNtWXxzspNFetbdfx9sXzqI1Z/cb3BQDAVAPlR37vknTq1KnFWikdOXo0XfC+fz069uvnbBo9yZxEmBS1G5MufPlNQ8YLpW5A/rivdLNU2bzdnFKZ/KKb3/BU3v3Vxl9D/eVzkr7BqJ18jr6Rx9cmjj+vKzyXLoEyzlnE/jxPjzMnr5+vS9O8InE+EZUvnWt9bZpXFzzW/Fzk+62fxpX6i+OJlMZTW4OcUrlSP7EPjS0+NdQx2YX8XIp8DF6brmtsVF7jcH31pdcKl3Eu0yL2G/F+nd84p9J5G4LWb5qBUuPNz12kdG4BYH0z8Y+89Zdwzt28Ob3/Ax9Ix44dW9z7Gk899VR693nnpS3vfU+6+9vfXtw7HF/I84t23wuf6uehssvNoFQm7zu/eet4DBh9xtk2Jh1TGRNv5PlNXcT29DUfi/eN84Qy7lNZ1dG+ErFNkZdvmlekbX2EjntcsmlefVE7fmrYZ87uL44nUhpPbQ1ySuVK/cQ+PA+/R/Nz24Tm1fReEF6bvmus8nmdtnWOqG78t2e71BVNfWn9pOkzrq5o/bSOk2zTaOxt51n9+j0LACAmGigPHDiQ3r3lvJH+/skSCiV7HtyzuDUZajcmX3i73rB0ocwvpqrbdvEs3ejzi67a9M176E1G9eKToxyNJd7UYpjwmrhvldXN1ON3iPDxWD7OQduen+fvsm4rPy9t845tCtWL50PbtXlFSucjR3257bZ59cXr4Hnm84iU+ovjiZTGU1uDnFK5Uj+xj3HnL9R203tBlPZ1QeXzOm7Laz5NmvrSvhhO9TU/967f9G+4Ca9tqf8hbet8196nEfWrPtRXxONSOwCwvphooHzppZfSf/zoR9PevXsX96wcvoiWbky+yJWeROhr3F+6CLttl/HFstSu9Bjyi67Kx5t33rcsXaRr5PXjjUBjiBd19RnDRKzr0BDXTuW1Fi7jY3EOcX5uw2XiusRxeC1Vt0TTnETTvPJ+rceVtx3PdZd5NVHqO6+n7XjcfZT6i+Npm1dcgxJ5v9LrGvsxcc7aH98HsW4X8rHHcyf8fnB/XSmdl7b31iRp6yu+12rr5fPSZ7yx3Wjexjhtl861zM+ZULt+z0Z8vkt1AGC+mfhH3tCN0g1p3JvrPFG7UcHqUApu2rfeA0NboOyC6pb+AzsJptm24N8pAOSMHSj/986d6fc//vHFre7c/NWbR3/T+9VXX13csz7x/+TjDclPCIbcpNY63Khmh9J/cPy+Xc//6RFDAqXXcBqBb5ptR/h3CgA5YwfKa/54++hX/vzPm/5XL3/33/3b0e+gfOWVVxZbWr/oopx/vLSew6TgRjVb+D858T263sOkcKD0mqyXJ7Y6954z/04BIDJ2oPz6HXec9muCuqrvswQAAACA+WDQ91De/8ADo6eOd3zjztHrLu7es2fZ76YEAAAAgLUNP5QDAAAAAIMgUAIAAADAIAiUi/ibzafxQzGz1rZ/oIAfrgAAAIBJMBeB0r8qwz99OE54m9XQF+dU+knSWQ2Upd9fCAAAAPPJmg+U8/q0zfNyUJzk7/8jUAIAAMAkWfOBUr8nb8OGDWP/Et/4dLP0y4DzJ4UqqzpdaGu7iTxQ5iGwS9uxjFR9tVNrK84trxufjmpMqr9r166l31Ho42rTdaKlp6sAAAAwH8zNE8q+gS1HASr/m8ZCAWloGKq13UQeKFVXc8w/2q617UBYekoYA2Wt3Pbt20fHhMu4b31VSHQAVd95qOcJJQAAwPphbn4oR+HFT8PGCTIKRrVA6eA0LrW2m3Do85yankLWxq36aifHbW/btq0aOnNiQFSgjOPJw68gUAIAAKwf5iZQGoUchZ2+TxWbQp/amkZYzUOjdCiLIc2vS33X2taYa2sQ+60FVT+FjMZAqfpqpwaBEgAAYP0wd4FSKMi0BZ6cLk8RVabrE71Il7ZzYqAU+lp6UlprW2NsC5QqI/N21Vb+8XoMiARKAAAAiMxdoHRYqoWpGl1CXwxifZhEoKz1XWu7FApN3pbWStvaL1Q3fk+k2uj7hFJlm8q4zb7nCQAAAGaPNR8oHUyifUJKqb4/Bnbwiscm1XYb7lttGL12/S5t67X2+bgDntt2QPR2rK95xnpbt27tFSjdptvI183jJ1ACAACsfebyI28AAAAAWDkIlAAAAAAwCAIlAAAAAAyCQAkAAAAAgyBQAgAAAMAgCJQAAAAAMAgCJQAAAAAMgkAJAAAAAIMgUC6iX9qtX7Qdf5H4WmCccee/2BwAAABgCHMRKPXnB/X3qP1XWcYJhrMWKPO/NCNLf1VmVgOlxkpgBQAAWB+s+UA5r0/bPC8HRYfmScyTQAkAAACTZM0HSv3t6Q0bNiz7G9Z9iE83S39nO39SqLKq04ba2bRp02llFRDVntptIg+UeQhsG7eIZaT7rbUV55bXjU9HPYddu3Yt/a1wH1ebrhMtPV0FAACA+WBunlDWQlVXFKAUAPM2FJDGCUO19sYNlGpHc/S2qfXjQFh6ShgDZa3c9u3bR8eEy7hvfVVIdABV33mo5wklAADA+mFufihH4cVPw8YJMgpGtUDp4NQHhbatW7eO2pN+Wqn2ugRUhz7PqekpZG3cteDqtrdt21YNnTkxICpQxvG4vRh2CZQAAADrh7kJlEYhR2Gn71PFWjATamucsKp6Clk7duwYvVbbqu828tAoHcpiSPPrUt+1cau/2hrEfmtBVf3GcUn3r2Oqr3ZqqO8+awUAAABrl7kLlEJBpi3w5DQFSqMyXZ/oCZW75pprTguWDo1NxEAp9LX0pLQ2bvXdFihVRubtqq384/UYELWfQAkAAABm7gKlw1ItTNXoEihjEOuCyuljZX8/oj4CV/2mPkweKGt918ZdCoUmb0trpW3tF6obvydSbfR9QqmyTWXcZt/zBAAAALPHmg+UDibRPiGlVN8fAzt4xWPjtK2vQnW7fj+m+3ZdodceW9O4jV5rn4874LltB0Rvx/oaa6ynMNwnULpNt5Gvm8ffZz0BAABgNpnLj7wBAAAAYOUgUAIAAADAIAiUAAAAADAIAiUAAAAADIJACQAAAACDIFACAAAAwCAIlAAAAAAwCAIlAAAAAAyCQAkAAAAAgxgFyueeey4988wzi7sAAAAAALqzcOrUqVGg3L9//+IuAAAAAIDujALlsWPHOv19aQAAAACAnIUXX3wx/fjHP05HjhxZ3AUAAAAA0J2Fl156KT3//POjj70BAAAAAPqy8MorryQ9pTx58uToo++jR4+mw4cPp0OHDo0+BkdEREREbHLh1VdfTS+//PIoVOonvhUs9RH4iRMn0vHjxxERERERGx0FSqknlQqW+ghcKmAiIiIiIra5sPjR9yhUxnCJiIiIiNjFpUAJAAAAADAOBEoAAAAAGASBEgAAAAAGQaAEAAAAgEEQKAEAAABgEARKAAAAABgEgRIAAAAABkGgBAAAAIBBECgBAAAAYBAESgAAAAAYBIESAAAAAAZBoAQAAACAQRAoAQAAAGAQBEoAAAAAGASBEgAAAAAGQaAEAAAAgEEQKAEAAABgEARKAAAAABhASv8PZX2XiuvqHCgAAAAASUVORK5CYII=)\n",
        "\n",
        "# Endomorphism Semiring and Rickart Properties\n",
        "\n",
        "This Python script analyzes the structure of the endomorphism semiring over a set \\( M \\), determining whether the semiring exhibits i-Rickart and w-Rickart properties.\n",
        "\n",
        "## Overview\n",
        "\n",
        "The script defines several functions that:\n",
        "- Check whether a function preserves the greatest common divisor (GCD) operation (`is_endomorphism`).\n",
        "- Determine if a function is idempotent (`is_idempotent`).\n",
        "- Compute function composition (`compose`).\n",
        "- Compute the subtractive closure of a semiring (`subtractive_closure`).\n",
        "- Check whether the semiring satisfies i-Rickart and w-Rickart properties (`is_i_rickart`, `is_w_rickart`).\n",
        "- Generate all valid endomorphisms and test the Rickart properties (`test_s_rickart`).\n",
        "\n",
        "\n"
      ],
      "metadata": {
        "id": "SdhS0aRy1Mw-"
      }
    }
  ]
}